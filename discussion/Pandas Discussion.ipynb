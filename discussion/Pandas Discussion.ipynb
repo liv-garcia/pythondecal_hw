{
 "cells": [
  {
   "cell_type": "markdown",
   "id": "f45530e7",
   "metadata": {
    "id": "f45530e7"
   },
   "source": [
    "## Question 1: Slicing and Splicing (and Slaying)"
   ]
  },
  {
   "cell_type": "markdown",
   "id": "191877a8",
   "metadata": {
    "id": "191877a8"
   },
   "source": [
    "In this question, we're going to practice how we index and select specific parts of dataframes in Pandas. We'll be using the dataframe created below- food_info."
   ]
  },
  {
   "cell_type": "code",
   "execution_count": 3,
   "id": "0f3e40d7",
   "metadata": {
    "id": "0f3e40d7"
   },
   "outputs": [],
   "source": [
    "#Import Necessary Packages here!\n",
    "import numpy as np\n",
    "import pandas as pd"
   ]
  },
  {
   "cell_type": "code",
   "execution_count": 4,
   "id": "5219dd54",
   "metadata": {
    "colab": {
     "base_uri": "https://localhost:8080/",
     "height": 175
    },
    "executionInfo": {
     "elapsed": 462,
     "status": "ok",
     "timestamp": 1698704050536,
     "user": {
      "displayName": "Pranathi Kolla",
      "userId": "18388712676543661520"
     },
     "user_tz": 420
    },
    "id": "5219dd54",
    "outputId": "10213c79-3a82-436e-e11c-51299815ee17"
   },
   "outputs": [
    {
     "data": {
      "text/html": [
       "<div>\n",
       "<style scoped>\n",
       "    .dataframe tbody tr th:only-of-type {\n",
       "        vertical-align: middle;\n",
       "    }\n",
       "\n",
       "    .dataframe tbody tr th {\n",
       "        vertical-align: top;\n",
       "    }\n",
       "\n",
       "    .dataframe thead th {\n",
       "        text-align: right;\n",
       "    }\n",
       "</style>\n",
       "<table border=\"1\" class=\"dataframe\">\n",
       "  <thead>\n",
       "    <tr style=\"text-align: right;\">\n",
       "      <th></th>\n",
       "      <th>food</th>\n",
       "      <th>restaurant</th>\n",
       "      <th>price</th>\n",
       "    </tr>\n",
       "  </thead>\n",
       "  <tbody>\n",
       "    <tr>\n",
       "      <th>0</th>\n",
       "      <td>Pad Thai</td>\n",
       "      <td>Imm Thai</td>\n",
       "      <td>16.0</td>\n",
       "    </tr>\n",
       "    <tr>\n",
       "      <th>1</th>\n",
       "      <td>Pizza</td>\n",
       "      <td>Cheeseboard</td>\n",
       "      <td>24.5</td>\n",
       "    </tr>\n",
       "    <tr>\n",
       "      <th>2</th>\n",
       "      <td>Burger</td>\n",
       "      <td>Super Duper</td>\n",
       "      <td>7.0</td>\n",
       "    </tr>\n",
       "    <tr>\n",
       "      <th>3</th>\n",
       "      <td>Boba</td>\n",
       "      <td>RareTea</td>\n",
       "      <td>6.5</td>\n",
       "    </tr>\n",
       "  </tbody>\n",
       "</table>\n",
       "</div>"
      ],
      "text/plain": [
       "       food   restaurant  price\n",
       "0  Pad Thai     Imm Thai   16.0\n",
       "1     Pizza  Cheeseboard   24.5\n",
       "2    Burger  Super Duper    7.0\n",
       "3      Boba      RareTea    6.5"
      ]
     },
     "execution_count": 4,
     "metadata": {},
     "output_type": "execute_result"
    }
   ],
   "source": [
    "food_info = pd.DataFrame(\n",
    "    data = {'food': ['Pad Thai', 'Pizza', 'Burger', 'Boba'],\n",
    "          'restaurant': ['Imm Thai', 'Cheeseboard', 'Super Duper', 'RareTea'],\n",
    "          'price': [16.00, 24.50, 7.00, 6.50]\n",
    "          })\n",
    "food_info"
   ]
  },
  {
   "cell_type": "markdown",
   "id": "3dcd36a6",
   "metadata": {
    "id": "3dcd36a6"
   },
   "source": [
    "### 1a. loc\n",
    "\n",
    "In this part, let's practice how to use the loc operator. For this, let's...\n",
    "- Get rows 1 and 3 and column food.\n",
    "- Get rows 1 and 2 and columns food and restaurant.\n",
    "- Get rows 0 through 2 (inclusive) and columns food through price.\n",
    "- Get rows 2 through 3 (inclusive) and columns restaurant and price.\n",
    "\n"
   ]
  },
  {
   "cell_type": "code",
   "execution_count": null,
   "id": "783df300",
   "metadata": {
    "id": "783df300"
   },
   "outputs": [],
   "source": [
    "# Solution for Part 1 here!"
   ]
  },
  {
   "cell_type": "code",
   "execution_count": 5,
   "id": "cb625ad8",
   "metadata": {
    "id": "cb625ad8"
   },
   "outputs": [
    {
     "data": {
      "text/html": [
       "<div>\n",
       "<style scoped>\n",
       "    .dataframe tbody tr th:only-of-type {\n",
       "        vertical-align: middle;\n",
       "    }\n",
       "\n",
       "    .dataframe tbody tr th {\n",
       "        vertical-align: top;\n",
       "    }\n",
       "\n",
       "    .dataframe thead th {\n",
       "        text-align: right;\n",
       "    }\n",
       "</style>\n",
       "<table border=\"1\" class=\"dataframe\">\n",
       "  <thead>\n",
       "    <tr style=\"text-align: right;\">\n",
       "      <th></th>\n",
       "      <th>food</th>\n",
       "      <th>restaurant</th>\n",
       "    </tr>\n",
       "  </thead>\n",
       "  <tbody>\n",
       "    <tr>\n",
       "      <th>1</th>\n",
       "      <td>Pizza</td>\n",
       "      <td>Cheeseboard</td>\n",
       "    </tr>\n",
       "    <tr>\n",
       "      <th>2</th>\n",
       "      <td>Burger</td>\n",
       "      <td>Super Duper</td>\n",
       "    </tr>\n",
       "  </tbody>\n",
       "</table>\n",
       "</div>"
      ],
      "text/plain": [
       "     food   restaurant\n",
       "1   Pizza  Cheeseboard\n",
       "2  Burger  Super Duper"
      ]
     },
     "execution_count": 5,
     "metadata": {},
     "output_type": "execute_result"
    }
   ],
   "source": [
    "food_info.loc[[1,2], ['food','restaurant']]"
   ]
  },
  {
   "cell_type": "code",
   "execution_count": null,
   "id": "0f6e747e",
   "metadata": {
    "id": "0f6e747e"
   },
   "outputs": [],
   "source": [
    "# Solution for Part 3 here!"
   ]
  },
  {
   "cell_type": "code",
   "execution_count": 6,
   "id": "fbf72734",
   "metadata": {
    "id": "fbf72734"
   },
   "outputs": [
    {
     "ename": "SyntaxError",
     "evalue": "unterminated string literal (detected at line 1) (3722845894.py, line 1)",
     "output_type": "error",
     "traceback": [
      "\u001b[1;36m  Cell \u001b[1;32mIn[6], line 1\u001b[1;36m\u001b[0m\n\u001b[1;33m    food_info.loc[2:3, ['restaurant', price']]\u001b[0m\n\u001b[1;37m                                           ^\u001b[0m\n\u001b[1;31mSyntaxError\u001b[0m\u001b[1;31m:\u001b[0m unterminated string literal (detected at line 1)\n"
     ]
    }
   ],
   "source": [
    "food_info.loc[2:3, ['restaurant', price']]"
   ]
  },
  {
   "cell_type": "markdown",
   "id": "c41f48e8",
   "metadata": {
    "id": "c41f48e8"
   },
   "source": [
    "### 1b. iloc\n",
    "\n",
    "In this part, let's practice how to use the iloc operator. For this, let's...\n",
    "- Get rows 1 and 3 and column food.\n",
    "- Get rows 1 and 2 and columns food and restaurant.\n",
    "- Get rows 0 through 2 (exclusive) and columns food through price.\n",
    "- Get rows 0 through 3 (exclusive) and columns restaurant and price.\n",
    "\n"
   ]
  },
  {
   "cell_type": "code",
   "execution_count": null,
   "id": "cbf96435",
   "metadata": {
    "id": "cbf96435"
   },
   "outputs": [],
   "source": [
    "# Solution for Part 1 here!"
   ]
  },
  {
   "cell_type": "code",
   "execution_count": null,
   "id": "37b8c62e",
   "metadata": {
    "id": "37b8c62e"
   },
   "outputs": [],
   "source": [
    "# Solution for Part 2 here!"
   ]
  },
  {
   "cell_type": "code",
   "execution_count": null,
   "id": "59ab61c6",
   "metadata": {
    "id": "59ab61c6"
   },
   "outputs": [],
   "source": [
    "food_info.iloc[food_info.iloc "
   ]
  },
  {
   "cell_type": "code",
   "execution_count": null,
   "id": "50df5e33",
   "metadata": {
    "id": "50df5e33"
   },
   "outputs": [],
   "source": [
    "# Solution for Part 4 here!"
   ]
  },
  {
   "cell_type": "markdown",
   "id": "def2ce4c",
   "metadata": {
    "id": "def2ce4c"
   },
   "source": [
    "### 1c. New Column!\n",
    "\n",
    "You can add new columns to a dataframe. Use the Pandas documentation to help you do this!\n",
    "Add a new column to food_info called 'ratings' where you can put a number from 1-5 rating how good this item of food is."
   ]
  },
  {
   "cell_type": "markdown",
   "id": "65bc05a6",
   "metadata": {
    "id": "65bc05a6"
   },
   "source": [
    "### 1d. Drop it...\n",
    "\n",
    "You can also drop columns! Drop any column of your choice from food_info. Use the Pandas documentation to help you find the operation you need to do this!"
   ]
  },
  {
   "cell_type": "code",
   "execution_count": null,
   "id": "a8f18342-4dbd-4430-a342-7353042ac72f",
   "metadata": {},
   "outputs": [],
   "source": []
  },
  {
   "cell_type": "code",
   "execution_count": 7,
   "id": "e8d5df7d",
   "metadata": {
    "id": "e8d5df7d"
   },
   "outputs": [
    {
     "ename": "ValueError",
     "evalue": "Length of values (5) does not match length of index (4)",
     "output_type": "error",
     "traceback": [
      "\u001b[1;31m---------------------------------------------------------------------------\u001b[0m",
      "\u001b[1;31mValueError\u001b[0m                                Traceback (most recent call last)",
      "Cell \u001b[1;32mIn[7], line 1\u001b[0m\n\u001b[1;32m----> 1\u001b[0m food_info\u001b[38;5;241m.\u001b[39minsert(\u001b[38;5;241m3\u001b[39m, \u001b[38;5;124m'\u001b[39m\u001b[38;5;124mRatings\u001b[39m\u001b[38;5;124m'\u001b[39m, [\u001b[38;5;241m5\u001b[39m,\u001b[38;5;241m4\u001b[39m,\u001b[38;5;241m3\u001b[39m,\u001b[38;5;241m2\u001b[39m,\u001b[38;5;241m1\u001b[39m])\n",
      "File \u001b[1;32m~\\anaconda3\\Lib\\site-packages\\pandas\\core\\frame.py:5171\u001b[0m, in \u001b[0;36mDataFrame.insert\u001b[1;34m(self, loc, column, value, allow_duplicates)\u001b[0m\n\u001b[0;32m   5168\u001b[0m \u001b[38;5;28;01melif\u001b[39;00m \u001b[38;5;28misinstance\u001b[39m(value, DataFrame):\n\u001b[0;32m   5169\u001b[0m     value \u001b[38;5;241m=\u001b[39m value\u001b[38;5;241m.\u001b[39miloc[:, \u001b[38;5;241m0\u001b[39m]\n\u001b[1;32m-> 5171\u001b[0m value, refs \u001b[38;5;241m=\u001b[39m \u001b[38;5;28mself\u001b[39m\u001b[38;5;241m.\u001b[39m_sanitize_column(value)\n\u001b[0;32m   5172\u001b[0m \u001b[38;5;28mself\u001b[39m\u001b[38;5;241m.\u001b[39m_mgr\u001b[38;5;241m.\u001b[39minsert(loc, column, value, refs\u001b[38;5;241m=\u001b[39mrefs)\n",
      "File \u001b[1;32m~\\anaconda3\\Lib\\site-packages\\pandas\\core\\frame.py:5266\u001b[0m, in \u001b[0;36mDataFrame._sanitize_column\u001b[1;34m(self, value)\u001b[0m\n\u001b[0;32m   5263\u001b[0m     \u001b[38;5;28;01mreturn\u001b[39;00m _reindex_for_setitem(value, \u001b[38;5;28mself\u001b[39m\u001b[38;5;241m.\u001b[39mindex)\n\u001b[0;32m   5265\u001b[0m \u001b[38;5;28;01mif\u001b[39;00m is_list_like(value):\n\u001b[1;32m-> 5266\u001b[0m     com\u001b[38;5;241m.\u001b[39mrequire_length_match(value, \u001b[38;5;28mself\u001b[39m\u001b[38;5;241m.\u001b[39mindex)\n\u001b[0;32m   5267\u001b[0m arr \u001b[38;5;241m=\u001b[39m sanitize_array(value, \u001b[38;5;28mself\u001b[39m\u001b[38;5;241m.\u001b[39mindex, copy\u001b[38;5;241m=\u001b[39m\u001b[38;5;28;01mTrue\u001b[39;00m, allow_2d\u001b[38;5;241m=\u001b[39m\u001b[38;5;28;01mTrue\u001b[39;00m)\n\u001b[0;32m   5268\u001b[0m \u001b[38;5;28;01mif\u001b[39;00m (\n\u001b[0;32m   5269\u001b[0m     \u001b[38;5;28misinstance\u001b[39m(value, Index)\n\u001b[0;32m   5270\u001b[0m     \u001b[38;5;129;01mand\u001b[39;00m value\u001b[38;5;241m.\u001b[39mdtype \u001b[38;5;241m==\u001b[39m \u001b[38;5;124m\"\u001b[39m\u001b[38;5;124mobject\u001b[39m\u001b[38;5;124m\"\u001b[39m\n\u001b[1;32m   (...)\u001b[0m\n\u001b[0;32m   5273\u001b[0m     \u001b[38;5;66;03m# TODO: Remove kludge in sanitize_array for string mode when enforcing\u001b[39;00m\n\u001b[0;32m   5274\u001b[0m     \u001b[38;5;66;03m# this deprecation\u001b[39;00m\n",
      "File \u001b[1;32m~\\anaconda3\\Lib\\site-packages\\pandas\\core\\common.py:573\u001b[0m, in \u001b[0;36mrequire_length_match\u001b[1;34m(data, index)\u001b[0m\n\u001b[0;32m    569\u001b[0m \u001b[38;5;250m\u001b[39m\u001b[38;5;124;03m\"\"\"\u001b[39;00m\n\u001b[0;32m    570\u001b[0m \u001b[38;5;124;03mCheck the length of data matches the length of the index.\u001b[39;00m\n\u001b[0;32m    571\u001b[0m \u001b[38;5;124;03m\"\"\"\u001b[39;00m\n\u001b[0;32m    572\u001b[0m \u001b[38;5;28;01mif\u001b[39;00m \u001b[38;5;28mlen\u001b[39m(data) \u001b[38;5;241m!=\u001b[39m \u001b[38;5;28mlen\u001b[39m(index):\n\u001b[1;32m--> 573\u001b[0m     \u001b[38;5;28;01mraise\u001b[39;00m \u001b[38;5;167;01mValueError\u001b[39;00m(\n\u001b[0;32m    574\u001b[0m         \u001b[38;5;124m\"\u001b[39m\u001b[38;5;124mLength of values \u001b[39m\u001b[38;5;124m\"\u001b[39m\n\u001b[0;32m    575\u001b[0m         \u001b[38;5;124mf\u001b[39m\u001b[38;5;124m\"\u001b[39m\u001b[38;5;124m(\u001b[39m\u001b[38;5;132;01m{\u001b[39;00m\u001b[38;5;28mlen\u001b[39m(data)\u001b[38;5;132;01m}\u001b[39;00m\u001b[38;5;124m) \u001b[39m\u001b[38;5;124m\"\u001b[39m\n\u001b[0;32m    576\u001b[0m         \u001b[38;5;124m\"\u001b[39m\u001b[38;5;124mdoes not match length of index \u001b[39m\u001b[38;5;124m\"\u001b[39m\n\u001b[0;32m    577\u001b[0m         \u001b[38;5;124mf\u001b[39m\u001b[38;5;124m\"\u001b[39m\u001b[38;5;124m(\u001b[39m\u001b[38;5;132;01m{\u001b[39;00m\u001b[38;5;28mlen\u001b[39m(index)\u001b[38;5;132;01m}\u001b[39;00m\u001b[38;5;124m)\u001b[39m\u001b[38;5;124m\"\u001b[39m\n\u001b[0;32m    578\u001b[0m     )\n",
      "\u001b[1;31mValueError\u001b[0m: Length of values (5) does not match length of index (4)"
     ]
    }
   ],
   "source": [
    "food_info.insert(3, 'Ratings', [5,4,3,2,1])"
   ]
  },
  {
   "cell_type": "code",
   "execution_count": 9,
   "id": "8318481d-ac43-455c-b52b-7cc3ebfcc1e9",
   "metadata": {},
   "outputs": [
    {
     "data": {
      "text/html": [
       "<div>\n",
       "<style scoped>\n",
       "    .dataframe tbody tr th:only-of-type {\n",
       "        vertical-align: middle;\n",
       "    }\n",
       "\n",
       "    .dataframe tbody tr th {\n",
       "        vertical-align: top;\n",
       "    }\n",
       "\n",
       "    .dataframe thead th {\n",
       "        text-align: right;\n",
       "    }\n",
       "</style>\n",
       "<table border=\"1\" class=\"dataframe\">\n",
       "  <thead>\n",
       "    <tr style=\"text-align: right;\">\n",
       "      <th></th>\n",
       "      <th>food</th>\n",
       "      <th>restaurant</th>\n",
       "      <th>price</th>\n",
       "    </tr>\n",
       "  </thead>\n",
       "  <tbody>\n",
       "    <tr>\n",
       "      <th>0</th>\n",
       "      <td>Pad Thai</td>\n",
       "      <td>Imm Thai</td>\n",
       "      <td>16.0</td>\n",
       "    </tr>\n",
       "    <tr>\n",
       "      <th>1</th>\n",
       "      <td>Pizza</td>\n",
       "      <td>Cheeseboard</td>\n",
       "      <td>24.5</td>\n",
       "    </tr>\n",
       "    <tr>\n",
       "      <th>2</th>\n",
       "      <td>Burger</td>\n",
       "      <td>Super Duper</td>\n",
       "      <td>7.0</td>\n",
       "    </tr>\n",
       "    <tr>\n",
       "      <th>3</th>\n",
       "      <td>Boba</td>\n",
       "      <td>RareTea</td>\n",
       "      <td>6.5</td>\n",
       "    </tr>\n",
       "  </tbody>\n",
       "</table>\n",
       "</div>"
      ],
      "text/plain": [
       "       food   restaurant  price\n",
       "0  Pad Thai     Imm Thai   16.0\n",
       "1     Pizza  Cheeseboard   24.5\n",
       "2    Burger  Super Duper    7.0\n",
       "3      Boba      RareTea    6.5"
      ]
     },
     "execution_count": 9,
     "metadata": {},
     "output_type": "execute_result"
    }
   ],
   "source": [
    "food_info"
   ]
  },
  {
   "cell_type": "code",
   "execution_count": 12,
   "id": "aa2666e8",
   "metadata": {
    "id": "aa2666e8"
   },
   "outputs": [
    {
     "data": {
      "text/html": [
       "<div>\n",
       "<style scoped>\n",
       "    .dataframe tbody tr th:only-of-type {\n",
       "        vertical-align: middle;\n",
       "    }\n",
       "\n",
       "    .dataframe tbody tr th {\n",
       "        vertical-align: top;\n",
       "    }\n",
       "\n",
       "    .dataframe thead th {\n",
       "        text-align: right;\n",
       "    }\n",
       "</style>\n",
       "<table border=\"1\" class=\"dataframe\">\n",
       "  <thead>\n",
       "    <tr style=\"text-align: right;\">\n",
       "      <th></th>\n",
       "      <th>food</th>\n",
       "      <th>restaurant</th>\n",
       "    </tr>\n",
       "  </thead>\n",
       "  <tbody>\n",
       "    <tr>\n",
       "      <th>0</th>\n",
       "      <td>Pad Thai</td>\n",
       "      <td>Imm Thai</td>\n",
       "    </tr>\n",
       "    <tr>\n",
       "      <th>1</th>\n",
       "      <td>Pizza</td>\n",
       "      <td>Cheeseboard</td>\n",
       "    </tr>\n",
       "    <tr>\n",
       "      <th>2</th>\n",
       "      <td>Burger</td>\n",
       "      <td>Super Duper</td>\n",
       "    </tr>\n",
       "    <tr>\n",
       "      <th>3</th>\n",
       "      <td>Boba</td>\n",
       "      <td>RareTea</td>\n",
       "    </tr>\n",
       "  </tbody>\n",
       "</table>\n",
       "</div>"
      ],
      "text/plain": [
       "       food   restaurant\n",
       "0  Pad Thai     Imm Thai\n",
       "1     Pizza  Cheeseboard\n",
       "2    Burger  Super Duper\n",
       "3      Boba      RareTea"
      ]
     },
     "execution_count": 12,
     "metadata": {},
     "output_type": "execute_result"
    }
   ],
   "source": [
    "new_df = food_info.drop(columns = 'price')\n",
    "new_df"
   ]
  },
  {
   "cell_type": "markdown",
   "id": "a6d06c98",
   "metadata": {
    "id": "a6d06c98"
   },
   "source": [
    "### 1e. New Names\n",
    "Rename the columns of your food_info table such that they are all capitalized! Use the Pandas documentation to help you find the operation you need to do this!"
   ]
  },
  {
   "cell_type": "code",
   "execution_count": 13,
   "id": "8dd4b4c1",
   "metadata": {
    "id": "8dd4b4c1"
   },
   "outputs": [
    {
     "data": {
      "text/html": [
       "<div>\n",
       "<style scoped>\n",
       "    .dataframe tbody tr th:only-of-type {\n",
       "        vertical-align: middle;\n",
       "    }\n",
       "\n",
       "    .dataframe tbody tr th {\n",
       "        vertical-align: top;\n",
       "    }\n",
       "\n",
       "    .dataframe thead th {\n",
       "        text-align: right;\n",
       "    }\n",
       "</style>\n",
       "<table border=\"1\" class=\"dataframe\">\n",
       "  <thead>\n",
       "    <tr style=\"text-align: right;\">\n",
       "      <th></th>\n",
       "      <th>Food</th>\n",
       "      <th>Restaurant</th>\n",
       "    </tr>\n",
       "  </thead>\n",
       "  <tbody>\n",
       "    <tr>\n",
       "      <th>0</th>\n",
       "      <td>Pad Thai</td>\n",
       "      <td>Imm Thai</td>\n",
       "    </tr>\n",
       "    <tr>\n",
       "      <th>1</th>\n",
       "      <td>Pizza</td>\n",
       "      <td>Cheeseboard</td>\n",
       "    </tr>\n",
       "    <tr>\n",
       "      <th>2</th>\n",
       "      <td>Burger</td>\n",
       "      <td>Super Duper</td>\n",
       "    </tr>\n",
       "    <tr>\n",
       "      <th>3</th>\n",
       "      <td>Boba</td>\n",
       "      <td>RareTea</td>\n",
       "    </tr>\n",
       "  </tbody>\n",
       "</table>\n",
       "</div>"
      ],
      "text/plain": [
       "       Food   Restaurant\n",
       "0  Pad Thai     Imm Thai\n",
       "1     Pizza  Cheeseboard\n",
       "2    Burger  Super Duper\n",
       "3      Boba      RareTea"
      ]
     },
     "execution_count": 13,
     "metadata": {},
     "output_type": "execute_result"
    }
   ],
   "source": [
    "new_df.rename(columns = {'food': 'Food', 'restaurant': 'Restaurant'})"
   ]
  },
  {
   "cell_type": "markdown",
   "id": "1863b165",
   "metadata": {
    "id": "1863b165"
   },
   "source": [
    "## Question 2: My Heart Will Go On"
   ]
  },
  {
   "cell_type": "markdown",
   "id": "7b4aa4ff",
   "metadata": {
    "id": "7b4aa4ff"
   },
   "source": [
    "In this question, we're going to get a glimpse into how data can be 'cleaned' for us to be able to understand and use it effectively- looking at the first few steps of Exploratory Data Analysis as we talked about during lecture and in our demo.\n",
    "\n",
    "Step 1 of the EDA process is collecting the data- but in our question today we're going to be working with prexisting data from the Titanic. Let's start with importing that data from a CSV file (filename: titanic_data.csv)."
   ]
  },
  {
   "cell_type": "code",
   "execution_count": 15,
   "id": "f628c002",
   "metadata": {
    "colab": {
     "base_uri": "https://localhost:8080/",
     "height": 356
    },
    "executionInfo": {
     "elapsed": 221,
     "status": "error",
     "timestamp": 1698705039841,
     "user": {
      "displayName": "Pranathi Kolla",
      "userId": "18388712676543661520"
     },
     "user_tz": 420
    },
    "id": "f628c002",
    "outputId": "b4e4a285-7803-4dbd-b0bd-6ab14f8d16dd"
   },
   "outputs": [
    {
     "data": {
      "text/html": [
       "<div>\n",
       "<style scoped>\n",
       "    .dataframe tbody tr th:only-of-type {\n",
       "        vertical-align: middle;\n",
       "    }\n",
       "\n",
       "    .dataframe tbody tr th {\n",
       "        vertical-align: top;\n",
       "    }\n",
       "\n",
       "    .dataframe thead th {\n",
       "        text-align: right;\n",
       "    }\n",
       "</style>\n",
       "<table border=\"1\" class=\"dataframe\">\n",
       "  <thead>\n",
       "    <tr style=\"text-align: right;\">\n",
       "      <th></th>\n",
       "      <th>PassengerId</th>\n",
       "      <th>Survived</th>\n",
       "      <th>Pclass</th>\n",
       "      <th>Name</th>\n",
       "      <th>Sex</th>\n",
       "      <th>Age</th>\n",
       "      <th>SibSp</th>\n",
       "      <th>Parch</th>\n",
       "      <th>Ticket</th>\n",
       "      <th>Fare</th>\n",
       "      <th>Cabin</th>\n",
       "      <th>Embarked</th>\n",
       "    </tr>\n",
       "  </thead>\n",
       "  <tbody>\n",
       "    <tr>\n",
       "      <th>0</th>\n",
       "      <td>1</td>\n",
       "      <td>0</td>\n",
       "      <td>3</td>\n",
       "      <td>Braund, Mr. Owen Harris</td>\n",
       "      <td>male</td>\n",
       "      <td>22.0</td>\n",
       "      <td>1</td>\n",
       "      <td>0</td>\n",
       "      <td>A/5 21171</td>\n",
       "      <td>7.2500</td>\n",
       "      <td>NaN</td>\n",
       "      <td>S</td>\n",
       "    </tr>\n",
       "    <tr>\n",
       "      <th>1</th>\n",
       "      <td>2</td>\n",
       "      <td>1</td>\n",
       "      <td>1</td>\n",
       "      <td>Cumings, Mrs. John Bradley (Florence Briggs Th...</td>\n",
       "      <td>female</td>\n",
       "      <td>38.0</td>\n",
       "      <td>1</td>\n",
       "      <td>0</td>\n",
       "      <td>PC 17599</td>\n",
       "      <td>71.2833</td>\n",
       "      <td>C85</td>\n",
       "      <td>C</td>\n",
       "    </tr>\n",
       "    <tr>\n",
       "      <th>2</th>\n",
       "      <td>3</td>\n",
       "      <td>1</td>\n",
       "      <td>3</td>\n",
       "      <td>Heikkinen, Miss. Laina</td>\n",
       "      <td>female</td>\n",
       "      <td>26.0</td>\n",
       "      <td>0</td>\n",
       "      <td>0</td>\n",
       "      <td>STON/O2. 3101282</td>\n",
       "      <td>7.9250</td>\n",
       "      <td>NaN</td>\n",
       "      <td>S</td>\n",
       "    </tr>\n",
       "    <tr>\n",
       "      <th>3</th>\n",
       "      <td>4</td>\n",
       "      <td>1</td>\n",
       "      <td>1</td>\n",
       "      <td>Futrelle, Mrs. Jacques Heath (Lily May Peel)</td>\n",
       "      <td>female</td>\n",
       "      <td>35.0</td>\n",
       "      <td>1</td>\n",
       "      <td>0</td>\n",
       "      <td>113803</td>\n",
       "      <td>53.1000</td>\n",
       "      <td>C123</td>\n",
       "      <td>S</td>\n",
       "    </tr>\n",
       "    <tr>\n",
       "      <th>4</th>\n",
       "      <td>5</td>\n",
       "      <td>0</td>\n",
       "      <td>3</td>\n",
       "      <td>Allen, Mr. William Henry</td>\n",
       "      <td>male</td>\n",
       "      <td>35.0</td>\n",
       "      <td>0</td>\n",
       "      <td>0</td>\n",
       "      <td>373450</td>\n",
       "      <td>8.0500</td>\n",
       "      <td>NaN</td>\n",
       "      <td>S</td>\n",
       "    </tr>\n",
       "    <tr>\n",
       "      <th>...</th>\n",
       "      <td>...</td>\n",
       "      <td>...</td>\n",
       "      <td>...</td>\n",
       "      <td>...</td>\n",
       "      <td>...</td>\n",
       "      <td>...</td>\n",
       "      <td>...</td>\n",
       "      <td>...</td>\n",
       "      <td>...</td>\n",
       "      <td>...</td>\n",
       "      <td>...</td>\n",
       "      <td>...</td>\n",
       "    </tr>\n",
       "    <tr>\n",
       "      <th>886</th>\n",
       "      <td>887</td>\n",
       "      <td>0</td>\n",
       "      <td>2</td>\n",
       "      <td>Montvila, Rev. Juozas</td>\n",
       "      <td>male</td>\n",
       "      <td>27.0</td>\n",
       "      <td>0</td>\n",
       "      <td>0</td>\n",
       "      <td>211536</td>\n",
       "      <td>13.0000</td>\n",
       "      <td>NaN</td>\n",
       "      <td>S</td>\n",
       "    </tr>\n",
       "    <tr>\n",
       "      <th>887</th>\n",
       "      <td>888</td>\n",
       "      <td>1</td>\n",
       "      <td>1</td>\n",
       "      <td>Graham, Miss. Margaret Edith</td>\n",
       "      <td>female</td>\n",
       "      <td>19.0</td>\n",
       "      <td>0</td>\n",
       "      <td>0</td>\n",
       "      <td>112053</td>\n",
       "      <td>30.0000</td>\n",
       "      <td>B42</td>\n",
       "      <td>S</td>\n",
       "    </tr>\n",
       "    <tr>\n",
       "      <th>888</th>\n",
       "      <td>889</td>\n",
       "      <td>0</td>\n",
       "      <td>3</td>\n",
       "      <td>Johnston, Miss. Catherine Helen \"Carrie\"</td>\n",
       "      <td>female</td>\n",
       "      <td>NaN</td>\n",
       "      <td>1</td>\n",
       "      <td>2</td>\n",
       "      <td>W./C. 6607</td>\n",
       "      <td>23.4500</td>\n",
       "      <td>NaN</td>\n",
       "      <td>S</td>\n",
       "    </tr>\n",
       "    <tr>\n",
       "      <th>889</th>\n",
       "      <td>890</td>\n",
       "      <td>1</td>\n",
       "      <td>1</td>\n",
       "      <td>Behr, Mr. Karl Howell</td>\n",
       "      <td>male</td>\n",
       "      <td>26.0</td>\n",
       "      <td>0</td>\n",
       "      <td>0</td>\n",
       "      <td>111369</td>\n",
       "      <td>30.0000</td>\n",
       "      <td>C148</td>\n",
       "      <td>C</td>\n",
       "    </tr>\n",
       "    <tr>\n",
       "      <th>890</th>\n",
       "      <td>891</td>\n",
       "      <td>0</td>\n",
       "      <td>3</td>\n",
       "      <td>Dooley, Mr. Patrick</td>\n",
       "      <td>male</td>\n",
       "      <td>32.0</td>\n",
       "      <td>0</td>\n",
       "      <td>0</td>\n",
       "      <td>370376</td>\n",
       "      <td>7.7500</td>\n",
       "      <td>NaN</td>\n",
       "      <td>Q</td>\n",
       "    </tr>\n",
       "  </tbody>\n",
       "</table>\n",
       "<p>891 rows × 12 columns</p>\n",
       "</div>"
      ],
      "text/plain": [
       "     PassengerId  Survived  Pclass  \\\n",
       "0              1         0       3   \n",
       "1              2         1       1   \n",
       "2              3         1       3   \n",
       "3              4         1       1   \n",
       "4              5         0       3   \n",
       "..           ...       ...     ...   \n",
       "886          887         0       2   \n",
       "887          888         1       1   \n",
       "888          889         0       3   \n",
       "889          890         1       1   \n",
       "890          891         0       3   \n",
       "\n",
       "                                                  Name     Sex   Age  SibSp  \\\n",
       "0                              Braund, Mr. Owen Harris    male  22.0      1   \n",
       "1    Cumings, Mrs. John Bradley (Florence Briggs Th...  female  38.0      1   \n",
       "2                               Heikkinen, Miss. Laina  female  26.0      0   \n",
       "3         Futrelle, Mrs. Jacques Heath (Lily May Peel)  female  35.0      1   \n",
       "4                             Allen, Mr. William Henry    male  35.0      0   \n",
       "..                                                 ...     ...   ...    ...   \n",
       "886                              Montvila, Rev. Juozas    male  27.0      0   \n",
       "887                       Graham, Miss. Margaret Edith  female  19.0      0   \n",
       "888           Johnston, Miss. Catherine Helen \"Carrie\"  female   NaN      1   \n",
       "889                              Behr, Mr. Karl Howell    male  26.0      0   \n",
       "890                                Dooley, Mr. Patrick    male  32.0      0   \n",
       "\n",
       "     Parch            Ticket     Fare Cabin Embarked  \n",
       "0        0         A/5 21171   7.2500   NaN        S  \n",
       "1        0          PC 17599  71.2833   C85        C  \n",
       "2        0  STON/O2. 3101282   7.9250   NaN        S  \n",
       "3        0            113803  53.1000  C123        S  \n",
       "4        0            373450   8.0500   NaN        S  \n",
       "..     ...               ...      ...   ...      ...  \n",
       "886      0            211536  13.0000   NaN        S  \n",
       "887      0            112053  30.0000   B42        S  \n",
       "888      2        W./C. 6607  23.4500   NaN        S  \n",
       "889      0            111369  30.0000  C148        C  \n",
       "890      0            370376   7.7500   NaN        Q  \n",
       "\n",
       "[891 rows x 12 columns]"
      ]
     },
     "execution_count": 15,
     "metadata": {},
     "output_type": "execute_result"
    }
   ],
   "source": [
    "# Loading in Data\n",
    "# This will be loading in the data from the 'titanic_data' csv file. Can you figure out why this files is called a CSV?\n",
    "\n",
    "titanic = pd.read_csv('titanic_data.csv')\n",
    "titanic"
   ]
  },
  {
   "cell_type": "markdown",
   "id": "9cc85e43",
   "metadata": {
    "id": "9cc85e43"
   },
   "source": [
    "We now have our data (yay)! Our next step is to find and understand the features of the data. In this case, this means understanding what each row and column in the data represents."
   ]
  },
  {
   "cell_type": "markdown",
   "id": "519189aa",
   "metadata": {
    "id": "519189aa"
   },
   "source": [
    "### 2a. What's the Data?\n",
    "What is the shape of this dataset? In other words, how many rows and columns does it have?\n"
   ]
  },
  {
   "cell_type": "code",
   "execution_count": 16,
   "id": "b4b2aa9f",
   "metadata": {
    "id": "b4b2aa9f"
   },
   "outputs": [
    {
     "data": {
      "text/plain": [
       "(891, 12)"
      ]
     },
     "execution_count": 16,
     "metadata": {},
     "output_type": "execute_result"
    }
   ],
   "source": [
    "np.shape(titanic)"
   ]
  },
  {
   "cell_type": "markdown",
   "id": "b65430bd",
   "metadata": {
    "id": "b65430bd"
   },
   "source": [
    "Alright! Now that we've seen a little bit of the data table, and understood what exactly the data is- here's more of a breakdown of what's in this dataset:\n",
    "\n",
    "- PassengerId - Count of the total passengers\n",
    "- Survival - Survival (0 = No; 1 = Yes)\n",
    "- Class - Passenger Class (1 = 1st; 2 = 2nd; 3 = 3rd)\n",
    "- Name - Passenger's Name\n",
    "- Sex - Passenger's Gender\n",
    "- Age - Passenger's Age\n",
    "- Sibsp - Number of Siblings/Spouses Aboard\n",
    "- Parch - Number of Parents/Children Aboard\n",
    "- Ticket - Ticket Number\n",
    "- Fare - Passenger Fare\n",
    "- Cabin - Cabin\n",
    "- Embarked - Port of Embarkation (C = Cherbourg; Q = Queenstown; S = Southampton)\n",
    "- Boat - Lifeboat (if survived)\n",
    "- Body - Body number (if did not survive and body was recovered)"
   ]
  },
  {
   "cell_type": "markdown",
   "id": "273eafe6",
   "metadata": {
    "id": "273eafe6"
   },
   "source": [
    "Though we won't be able to look through all of these helpful features, we can now begin to focus on features of our interest and begin actually using our data to come to some fun conclusions!"
   ]
  },
  {
   "cell_type": "markdown",
   "id": "9e75f2eb",
   "metadata": {
    "id": "9e75f2eb"
   },
   "source": [
    "### 2b. I'm a Survivor\n",
    "\n",
    "In the dataset, there's a column that shows us how many people survived the crash into the iceberg.\n",
    "What fraction of the total number of passengers made it safely?\n",
    "\n",
    "Hint: Determine a method of first, finding how many people survived- and divide this value by the total number of passengers. You can use the value_counts() method."
   ]
  },
  {
   "cell_type": "code",
   "execution_count": 21,
   "id": "b3c847b5",
   "metadata": {
    "id": "b3c847b5"
   },
   "outputs": [
    {
     "data": {
      "text/plain": [
       "0.3838383838383838"
      ]
     },
     "execution_count": 21,
     "metadata": {},
     "output_type": "execute_result"
    }
   ],
   "source": [
    "survived = np.sum(titanic['Survived'])\n",
    "total_passengers = len(titanic['Survived'])\n",
    "survived/total_passengers\n",
    "                          "
   ]
  },
  {
   "cell_type": "markdown",
   "id": "fb7281e4",
   "metadata": {
    "id": "fb7281e4"
   },
   "source": [
    "### 2c. Guest List\n",
    "Another important process of analyzing data is being able to organize it in an effective method for your analysis.\n",
    "Let's say that you want to look at the names of the passengers in alphabetical order- organize the data table by alphabetical order of passenger names.\n",
    "\n",
    "Print out this new datatable with the passengers ordered alphabetically by their name- but starting with the Z names first.\n",
    "\n",
    "Hint: You can use the sort_values() function on pandas. Look at what the different input parameters do!"
   ]
  },
  {
   "cell_type": "code",
   "execution_count": 24,
   "id": "04aa65df",
   "metadata": {
    "id": "04aa65df"
   },
   "outputs": [
    {
     "ename": "KeyError",
     "evalue": "'Names'",
     "output_type": "error",
     "traceback": [
      "\u001b[1;31m---------------------------------------------------------------------------\u001b[0m",
      "\u001b[1;31mKeyError\u001b[0m                                  Traceback (most recent call last)",
      "\u001b[1;32m~\\AppData\\Local\\Temp\\ipykernel_3504\\3394809874.py\u001b[0m in \u001b[0;36m?\u001b[1;34m()\u001b[0m\n\u001b[1;32m----> 1\u001b[1;33m \u001b[0mtitanic\u001b[0m\u001b[1;33m.\u001b[0m\u001b[0msort_values\u001b[0m\u001b[1;33m(\u001b[0m\u001b[1;33m[\u001b[0m\u001b[1;34m'Names'\u001b[0m\u001b[1;33m]\u001b[0m\u001b[1;33m,\u001b[0m \u001b[0mascending\u001b[0m \u001b[1;33m=\u001b[0m \u001b[1;32mFalse\u001b[0m\u001b[1;33m)\u001b[0m\u001b[1;33m\u001b[0m\u001b[1;33m\u001b[0m\u001b[0m\n\u001b[0m",
      "\u001b[1;32m~\\anaconda3\\Lib\\site-packages\\pandas\\core\\frame.py\u001b[0m in \u001b[0;36m?\u001b[1;34m(self, by, axis, ascending, inplace, kind, na_position, ignore_index, key)\u001b[0m\n\u001b[0;32m   7185\u001b[0m             \u001b[1;33m)\u001b[0m\u001b[1;33m\u001b[0m\u001b[1;33m\u001b[0m\u001b[0m\n\u001b[0;32m   7186\u001b[0m         \u001b[1;32melif\u001b[0m \u001b[0mlen\u001b[0m\u001b[1;33m(\u001b[0m\u001b[0mby\u001b[0m\u001b[1;33m)\u001b[0m\u001b[1;33m:\u001b[0m\u001b[1;33m\u001b[0m\u001b[1;33m\u001b[0m\u001b[0m\n\u001b[0;32m   7187\u001b[0m             \u001b[1;31m# len(by) == 1\u001b[0m\u001b[1;33m\u001b[0m\u001b[1;33m\u001b[0m\u001b[0m\n\u001b[0;32m   7188\u001b[0m \u001b[1;33m\u001b[0m\u001b[0m\n\u001b[1;32m-> 7189\u001b[1;33m             \u001b[0mk\u001b[0m \u001b[1;33m=\u001b[0m \u001b[0mself\u001b[0m\u001b[1;33m.\u001b[0m\u001b[0m_get_label_or_level_values\u001b[0m\u001b[1;33m(\u001b[0m\u001b[0mby\u001b[0m\u001b[1;33m[\u001b[0m\u001b[1;36m0\u001b[0m\u001b[1;33m]\u001b[0m\u001b[1;33m,\u001b[0m \u001b[0maxis\u001b[0m\u001b[1;33m=\u001b[0m\u001b[0maxis\u001b[0m\u001b[1;33m)\u001b[0m\u001b[1;33m\u001b[0m\u001b[1;33m\u001b[0m\u001b[0m\n\u001b[0m\u001b[0;32m   7190\u001b[0m \u001b[1;33m\u001b[0m\u001b[0m\n\u001b[0;32m   7191\u001b[0m             \u001b[1;31m# need to rewrap column in Series to apply key function\u001b[0m\u001b[1;33m\u001b[0m\u001b[1;33m\u001b[0m\u001b[0m\n\u001b[0;32m   7192\u001b[0m             \u001b[1;32mif\u001b[0m \u001b[0mkey\u001b[0m \u001b[1;32mis\u001b[0m \u001b[1;32mnot\u001b[0m \u001b[1;32mNone\u001b[0m\u001b[1;33m:\u001b[0m\u001b[1;33m\u001b[0m\u001b[1;33m\u001b[0m\u001b[0m\n",
      "\u001b[1;32m~\\anaconda3\\Lib\\site-packages\\pandas\\core\\generic.py\u001b[0m in \u001b[0;36m?\u001b[1;34m(self, key, axis)\u001b[0m\n\u001b[0;32m   1907\u001b[0m             \u001b[0mvalues\u001b[0m \u001b[1;33m=\u001b[0m \u001b[0mself\u001b[0m\u001b[1;33m.\u001b[0m\u001b[0mxs\u001b[0m\u001b[1;33m(\u001b[0m\u001b[0mkey\u001b[0m\u001b[1;33m,\u001b[0m \u001b[0maxis\u001b[0m\u001b[1;33m=\u001b[0m\u001b[0mother_axes\u001b[0m\u001b[1;33m[\u001b[0m\u001b[1;36m0\u001b[0m\u001b[1;33m]\u001b[0m\u001b[1;33m)\u001b[0m\u001b[1;33m.\u001b[0m\u001b[0m_values\u001b[0m\u001b[1;33m\u001b[0m\u001b[1;33m\u001b[0m\u001b[0m\n\u001b[0;32m   1908\u001b[0m         \u001b[1;32melif\u001b[0m \u001b[0mself\u001b[0m\u001b[1;33m.\u001b[0m\u001b[0m_is_level_reference\u001b[0m\u001b[1;33m(\u001b[0m\u001b[0mkey\u001b[0m\u001b[1;33m,\u001b[0m \u001b[0maxis\u001b[0m\u001b[1;33m=\u001b[0m\u001b[0maxis\u001b[0m\u001b[1;33m)\u001b[0m\u001b[1;33m:\u001b[0m\u001b[1;33m\u001b[0m\u001b[1;33m\u001b[0m\u001b[0m\n\u001b[0;32m   1909\u001b[0m             \u001b[0mvalues\u001b[0m \u001b[1;33m=\u001b[0m \u001b[0mself\u001b[0m\u001b[1;33m.\u001b[0m\u001b[0maxes\u001b[0m\u001b[1;33m[\u001b[0m\u001b[0maxis\u001b[0m\u001b[1;33m]\u001b[0m\u001b[1;33m.\u001b[0m\u001b[0mget_level_values\u001b[0m\u001b[1;33m(\u001b[0m\u001b[0mkey\u001b[0m\u001b[1;33m)\u001b[0m\u001b[1;33m.\u001b[0m\u001b[0m_values\u001b[0m\u001b[1;33m\u001b[0m\u001b[1;33m\u001b[0m\u001b[0m\n\u001b[0;32m   1910\u001b[0m         \u001b[1;32melse\u001b[0m\u001b[1;33m:\u001b[0m\u001b[1;33m\u001b[0m\u001b[1;33m\u001b[0m\u001b[0m\n\u001b[1;32m-> 1911\u001b[1;33m             \u001b[1;32mraise\u001b[0m \u001b[0mKeyError\u001b[0m\u001b[1;33m(\u001b[0m\u001b[0mkey\u001b[0m\u001b[1;33m)\u001b[0m\u001b[1;33m\u001b[0m\u001b[1;33m\u001b[0m\u001b[0m\n\u001b[0m\u001b[0;32m   1912\u001b[0m \u001b[1;33m\u001b[0m\u001b[0m\n\u001b[0;32m   1913\u001b[0m         \u001b[1;31m# Check for duplicates\u001b[0m\u001b[1;33m\u001b[0m\u001b[1;33m\u001b[0m\u001b[0m\n\u001b[0;32m   1914\u001b[0m         \u001b[1;32mif\u001b[0m \u001b[0mvalues\u001b[0m\u001b[1;33m.\u001b[0m\u001b[0mndim\u001b[0m \u001b[1;33m>\u001b[0m \u001b[1;36m1\u001b[0m\u001b[1;33m:\u001b[0m\u001b[1;33m\u001b[0m\u001b[1;33m\u001b[0m\u001b[0m\n",
      "\u001b[1;31mKeyError\u001b[0m: 'Names'"
     ]
    }
   ],
   "source": [
    "titanic.sort_values(['Names'], ascending = False)"
   ]
  },
  {
   "cell_type": "markdown",
   "id": "11c9c432",
   "metadata": {
    "id": "11c9c432"
   },
   "source": [
    "### 2d. Numbers, Numbers, Numbers\n",
    "Statistics are important for working with data. A lot of the time, we want to understand overall trends in data, and statistical measures are very helpful for this. Here are some things we can investigate:\n",
    "- What was the mean age of all of the passengers? What about the standard deviation?\n",
    "- What was the instance of the maximum number of Parents/Children aboard? What about the maximum number of Siblings/Spouses?"
   ]
  },
  {
   "cell_type": "code",
   "execution_count": 25,
   "id": "616eeaee",
   "metadata": {
    "id": "616eeaee"
   },
   "outputs": [
    {
     "data": {
      "text/plain": [
       "29.69911764705882"
      ]
     },
     "execution_count": 25,
     "metadata": {},
     "output_type": "execute_result"
    }
   ],
   "source": [
    "# Mean Age of Passengers\n",
    "np.mean(titanic['Age'])"
   ]
  },
  {
   "cell_type": "code",
   "execution_count": 26,
   "id": "98c0f14d",
   "metadata": {
    "id": "98c0f14d"
   },
   "outputs": [
    {
     "data": {
      "text/plain": [
       "14.516321150817317"
      ]
     },
     "execution_count": 26,
     "metadata": {},
     "output_type": "execute_result"
    }
   ],
   "source": [
    "# Standard Dev of Passenger Age\n",
    "np.std(titanic['Age'])"
   ]
  },
  {
   "cell_type": "code",
   "execution_count": 27,
   "id": "789c88b6",
   "metadata": {
    "id": "789c88b6"
   },
   "outputs": [
    {
     "data": {
      "text/plain": [
       "6"
      ]
     },
     "execution_count": 27,
     "metadata": {},
     "output_type": "execute_result"
    }
   ],
   "source": [
    "# Maximum Number Parents/Children Aboard\n",
    "np.max(titanic['Parch'])"
   ]
  },
  {
   "cell_type": "code",
   "execution_count": 28,
   "id": "42a649b2",
   "metadata": {
    "id": "42a649b2"
   },
   "outputs": [
    {
     "data": {
      "text/plain": [
       "8"
      ]
     },
     "execution_count": 28,
     "metadata": {},
     "output_type": "execute_result"
    }
   ],
   "source": [
    "# Maximum Number of Siblings/Spouses Aboard\n",
    "np.max(titanic['SibSp'])"
   ]
  },
  {
   "cell_type": "markdown",
   "id": "0f1f6239",
   "metadata": {
    "id": "0f1f6239"
   },
   "source": [
    "### 2e. Ooh that's Pricey...\n",
    "Some people had to pay a higher fare than others in order to secure their spot on this ship. Print out the 10 people who spent the most money on their fare for the Titanic.\n",
    "\n",
    "Hint 1: You may find sort_values() helpful.\n",
    "\n",
    "Hint 2: You'll need to somehow get the names only, NOT the counts associated with each. If you're not sure how to do this, try looking through the class notes or using a search engine. We know this is annoying but we're trying to help you build independence.\n",
    "\n",
    "Hint 3: To check your answer, this should return a list of 10 names- it should not be a number."
   ]
  },
  {
   "cell_type": "code",
   "execution_count": 35,
   "id": "ce7f55bd",
   "metadata": {
    "id": "ce7f55bd"
   },
   "outputs": [
    {
     "data": {
      "text/plain": [
       "array(['Ward, Miss. Anna', 'Lesurer, Mr. Gustave J',\n",
       "       'Cardeza, Mr. Thomas Drake Martinez', 'Fortune, Miss. Mabel Helen',\n",
       "       'Fortune, Mr. Charles Alexander', 'Fortune, Miss. Alice Elizabeth',\n",
       "       'Fortune, Mr. Mark', 'Ryerson, Miss. Emily Borie',\n",
       "       'Ryerson, Miss. Susan Parker \"Suzette\"',\n",
       "       'Baxter, Mr. Quigg Edmond',\n",
       "       'Baxter, Mrs. James (Helene DeLaudeniere Chaput)'], dtype=object)"
      ]
     },
     "execution_count": 35,
     "metadata": {},
     "output_type": "execute_result"
    }
   ],
   "source": [
    "# Your code here!\n",
    "max_paid = titanic.sort_values('Fare', ascending = False)\n",
    "df_top_ten = max_paid[0:11]\n",
    "np.array(df_top_ten.loc[:,'Name'])\n",
    "\n",
    "# t"
   ]
  },
  {
   "cell_type": "markdown",
   "id": "ce092a3e",
   "metadata": {
    "id": "ce092a3e"
   },
   "source": [
    "### 2f. not the NaNs...\n",
    "If you look at certain data entries, you may notice an interesting feature- NaN. This stands for Not a Number- and it basically shows us 'missing' or incorrectly represented data. In this case, the \"Cabin\" column has a lot of NaN values, which means they likely have a significance. We often will want to drop or appropriately replace the NaN values in a dataset- but in this question, let's just look at all of the entries that have a NaN in the \"Cabin\" column.\n",
    "\n",
    "Print out a datatable from the original dataframe that only contains the rows with NaN in the \"Cabin\" column."
   ]
  },
  {
   "cell_type": "code",
   "execution_count": 36,
   "id": "3a360dd9",
   "metadata": {
    "id": "3a360dd9"
   },
   "outputs": [],
   "source": [
    "#Your code here!\n"
   ]
  },
  {
   "cell_type": "markdown",
   "id": "63789848",
   "metadata": {
    "id": "63789848"
   },
   "source": [
    "### 2g. Group Up!\n",
    "\n",
    "A lot of times, when we look at our data we want to look at it in different 'groups' to understand how features are related. For this question, let's take a look at how the other features relate to where the passengers embarked on the journey (C = Cherbourg; Q = Queenstown; S = Southampton).\n",
    "\n",
    "Group by the embarkation and print out your result.\n",
    "\n",
    "Hint: You will have to use an aggregation function (e.g, count, mean, median, sum, max...) to find the totals.\n",
    "\n",
    "When this is done, you'll see that some columns no longer contain useful information- such as PassengerId and Age- but others provide us with valuabe insights such as the Surivived, and Fare columns which tell us the total fare collected at each port, and how many people survived according to where they boarded the ship."
   ]
  },
  {
   "cell_type": "code",
   "execution_count": 41,
   "id": "4a4e547c",
   "metadata": {
    "id": "4a4e547c"
   },
   "outputs": [
    {
     "data": {
      "text/html": [
       "<div>\n",
       "<style scoped>\n",
       "    .dataframe tbody tr th:only-of-type {\n",
       "        vertical-align: middle;\n",
       "    }\n",
       "\n",
       "    .dataframe tbody tr th {\n",
       "        vertical-align: top;\n",
       "    }\n",
       "\n",
       "    .dataframe thead th {\n",
       "        text-align: right;\n",
       "    }\n",
       "</style>\n",
       "<table border=\"1\" class=\"dataframe\">\n",
       "  <thead>\n",
       "    <tr style=\"text-align: right;\">\n",
       "      <th></th>\n",
       "      <th>PassengerId</th>\n",
       "      <th>Survived</th>\n",
       "      <th>Pclass</th>\n",
       "      <th>Name</th>\n",
       "      <th>Sex</th>\n",
       "      <th>Age</th>\n",
       "      <th>SibSp</th>\n",
       "      <th>Parch</th>\n",
       "      <th>Ticket</th>\n",
       "      <th>Fare</th>\n",
       "      <th>Cabin</th>\n",
       "    </tr>\n",
       "    <tr>\n",
       "      <th>Embarked</th>\n",
       "      <th></th>\n",
       "      <th></th>\n",
       "      <th></th>\n",
       "      <th></th>\n",
       "      <th></th>\n",
       "      <th></th>\n",
       "      <th></th>\n",
       "      <th></th>\n",
       "      <th></th>\n",
       "      <th></th>\n",
       "      <th></th>\n",
       "    </tr>\n",
       "  </thead>\n",
       "  <tbody>\n",
       "    <tr>\n",
       "      <th>C</th>\n",
       "      <td>74820</td>\n",
       "      <td>93</td>\n",
       "      <td>317</td>\n",
       "      <td>Cumings, Mrs. John Bradley (Florence Briggs Th...</td>\n",
       "      <td>femalefemalefemalemalemalefemalemalemalefemale...</td>\n",
       "      <td>4005.92</td>\n",
       "      <td>65</td>\n",
       "      <td>61</td>\n",
       "      <td>PC 1759923773626492631PC 17601PC 17569PC 17604...</td>\n",
       "      <td>10072.2962</td>\n",
       "      <td>C85B78D33B30A5D10 D12B58 B60F E69B86A7C49B4B80...</td>\n",
       "    </tr>\n",
       "    <tr>\n",
       "      <th>Q</th>\n",
       "      <td>32178</td>\n",
       "      <td>30</td>\n",
       "      <td>224</td>\n",
       "      <td>Moran, Mr. JamesRice, Master. EugeneMcGowan, M...</td>\n",
       "      <td>malemalefemalefemalefemalefemalemalefemalefema...</td>\n",
       "      <td>786.50</td>\n",
       "      <td>33</td>\n",
       "      <td>13</td>\n",
       "      <td>3308773826523309233309593356773309583703711431...</td>\n",
       "      <td>1022.2543</td>\n",
       "      <td>C78E101C78F38</td>\n",
       "    </tr>\n",
       "    <tr>\n",
       "      <th>S</th>\n",
       "      <td>289496</td>\n",
       "      <td>217</td>\n",
       "      <td>1514</td>\n",
       "      <td>Braund, Mr. Owen HarrisHeikkinen, Miss. LainaF...</td>\n",
       "      <td>malefemalefemalemalemalemalefemalefemalefemale...</td>\n",
       "      <td>16312.75</td>\n",
       "      <td>368</td>\n",
       "      <td>266</td>\n",
       "      <td>A/5 21171STON/O2. 3101282113803373450174633499...</td>\n",
       "      <td>17439.3988</td>\n",
       "      <td>C123E46G6C103D56A6C23 C25 C27C52C83F33F G73C23...</td>\n",
       "    </tr>\n",
       "  </tbody>\n",
       "</table>\n",
       "</div>"
      ],
      "text/plain": [
       "          PassengerId  Survived  Pclass  \\\n",
       "Embarked                                  \n",
       "C               74820        93     317   \n",
       "Q               32178        30     224   \n",
       "S              289496       217    1514   \n",
       "\n",
       "                                                       Name  \\\n",
       "Embarked                                                      \n",
       "C         Cumings, Mrs. John Bradley (Florence Briggs Th...   \n",
       "Q         Moran, Mr. JamesRice, Master. EugeneMcGowan, M...   \n",
       "S         Braund, Mr. Owen HarrisHeikkinen, Miss. LainaF...   \n",
       "\n",
       "                                                        Sex       Age  SibSp  \\\n",
       "Embarked                                                                       \n",
       "C         femalefemalefemalemalemalefemalemalemalefemale...   4005.92     65   \n",
       "Q         malemalefemalefemalefemalefemalemalefemalefema...    786.50     33   \n",
       "S         malefemalefemalemalemalemalefemalefemalefemale...  16312.75    368   \n",
       "\n",
       "          Parch                                             Ticket  \\\n",
       "Embarked                                                             \n",
       "C            61  PC 1759923773626492631PC 17601PC 17569PC 17604...   \n",
       "Q            13  3308773826523309233309593356773309583703711431...   \n",
       "S           266  A/5 21171STON/O2. 3101282113803373450174633499...   \n",
       "\n",
       "                Fare                                              Cabin  \n",
       "Embarked                                                                 \n",
       "C         10072.2962  C85B78D33B30A5D10 D12B58 B60F E69B86A7C49B4B80...  \n",
       "Q          1022.2543                                      C78E101C78F38  \n",
       "S         17439.3988  C123E46G6C103D56A6C23 C25 C27C52C83F33F G73C23...  "
      ]
     },
     "execution_count": 41,
     "metadata": {},
     "output_type": "execute_result"
    }
   ],
   "source": [
    "#Your code here!\n",
    "embarked = titanic.groupby(['Embarked']).sum()\n",
    "embarked"
   ]
  },
  {
   "cell_type": "code",
   "execution_count": 42,
   "id": "f1790352-480e-4471-bfde-f74ce9965ee0",
   "metadata": {},
   "outputs": [],
   "source": [
    "import matplotlib.pyplot as plt"
   ]
  },
  {
   "cell_type": "code",
   "execution_count": 43,
   "id": "38d4fade-5d43-431b-b7af-8590b625c073",
   "metadata": {},
   "outputs": [
    {
     "data": {
      "image/png": "[encoded data removed]",
      "text/plain": [
       "<Figure size 640x480 with 1 Axes>"
      ]
     },
     "metadata": {},
     "output_type": "display_data"
    }
   ],
   "source": [
    "plt.figure()\n",
    "plt.scatter(range(0, len(titanic['Fare'])), titanic['Fare'])\n",
    "plt.show()"
   ]
  },
  {
   "cell_type": "code",
   "execution_count": null,
   "id": "fc14324f-7d6d-4f6a-9e51-ebee15682fb5",
   "metadata": {},
   "outputs": [],
   "source": []
  }
 ],
 "metadata": {
  "colab": {
   "provenance": []
  },
  "kernelspec": {
   "display_name": "Python 3 (ipykernel)",
   "language": "python",
   "name": "python3"
  },
  "language_info": {
   "codemirror_mode": {
    "name": "ipython",
    "version": 3
   },
   "file_extension": ".py",
   "mimetype": "text/x-python",
   "name": "python",
   "nbconvert_exporter": "python",
   "pygments_lexer": "ipython3",
   "version": "3.12.4"
  }
 },
 "nbformat": 4,
 "nbformat_minor": 5
}
